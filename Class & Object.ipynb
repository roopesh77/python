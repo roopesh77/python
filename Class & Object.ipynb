{
 "cells": [
  {
   "cell_type": "code",
   "execution_count": 8,
   "metadata": {},
   "outputs": [],
   "source": [
    "class Test:\n",
    "    x= 3000\n",
    "    def __init__(self):\n",
    "        print('I an init method')\n",
    "        y= 1000\n",
    "    def callme(self):\n",
    "        print('I am called')"
   ]
  },
  {
   "cell_type": "code",
   "execution_count": 9,
   "metadata": {},
   "outputs": [
    {
     "name": "stdout",
     "output_type": "stream",
     "text": [
      "I an init method\n"
     ]
    },
    {
     "data": {
      "text/plain": [
       "<__main__.Test at 0x1bf89188310>"
      ]
     },
     "execution_count": 9,
     "metadata": {},
     "output_type": "execute_result"
    }
   ],
   "source": [
    "Test()"
   ]
  },
  {
   "cell_type": "code",
   "execution_count": 10,
   "metadata": {},
   "outputs": [],
   "source": [
    "class Pair:\n",
    "    def __init__(self, x, y):\n",
    "        self.x = x\n",
    "        self.y = y\n",
    "    def __repr__(self):\n",
    "        return f\"({self.x},{self.y})\"\n",
    "    def __str__(self):\n",
    "        return f\"Pair({self.x},{self.y})\""
   ]
  },
  {
   "cell_type": "code",
   "execution_count": 1,
   "metadata": {},
   "outputs": [],
   "source": [
    "class Account:\n",
    "    def __init__(self, _type, amount):\n",
    "        self.accouunt_type = {'nari_bachat':1000, 'student':0}\n",
    "        if _type not in self.account_type:\n",
    "            raise ValueError(f'unknown account type:{_type}') #error faldini kam ho raise ko\n",
    "        self._type = _type\n",
    "        self.total_amount = amount\n",
    "        def deposit(self, value):\n",
    "            print(f'your precvious balance was {self.total_amount}')\n",
    "            self.total_number = self.total_amount+value\n",
    "            print(f'your new balance was {self.total_amount}')\n",
    "\n",
    "        def withdraw(self, value):\n",
    "            #limit check\n",
    "            if value%500!=0:\n",
    "                raise ValueError(f'Amount must be multiple of 500')\n",
    "            if self.total_amount-value >= self.account_type[self._type]:\n",
    "                print(f\"your previous balance was : {self.total_amount}\")\n",
    "                self.total_amount = self.total_amount_value\n",
    "                print(f\"your balance after withdraw: {self.total_amount}\")\n",
    "            else:\n",
    "                raise ValueError(f'Insufficient Balance')\n",
    "        \n",
    "        def inquery(self):\n",
    "            print('')"
   ]
  },
  {
   "cell_type": "code",
   "execution_count": null,
   "metadata": {},
   "outputs": [],
   "source": [
    "try:\n",
    "    account_type = input(\"Enter account type (account type are: nari_bachat , student):\")\n",
    "    valid_type = ['nari_bachat', 'student']\n",
    "    if account_type not in valid_type:\n",
    "        raise ValueError('Invalid account type')\n",
    "    amount = input('Enter amount:')\n",
    "    sita = Account(account_type,int(amount))\n",
    "except ValueError as e:\n",
    "    print(e)\n",
    "else:\n",
    "    while True: \n",
    "        print('1. Deposit')\n",
    "        print('2. Withdraw')\n",
    "        print('3. inquery')\n",
    "        print('0. Exit')\n",
    "        action = input(\"Choose any one option from above:\")\n",
    "        valid_action = 0,1,2,3\n",
    "\n",
    "        if int(action) not in valid_action:\n",
    "            print('Invalid Option')\n",
    "            continue\n",
    "\n",
    "        if int(action)==0:\n",
    "            break\n",
    "\n",
    "        if int(action) == 1:\n",
    "            amount = input('Enter the amount:')\n",
    "            sita.deposit(int(amount))\n",
    "            print('Amount deposited successfully')\n",
    "            continue\n",
    "\n",
    "        if int(action) == 2:\n",
    "            amount = input(\"Enter withdraw amount(Withdrawl amount must be mulptiple of 500):\")\n",
    "            sita.withdraw(int(amount))\n",
    "            print(\"Amount withdraw successfull.\")\n",
    "            continue\n",
    "\n",
    "        if int(action) == 3:\n",
    "            sita.inquery()\n",
    "            continue"
   ]
  },
  {
   "cell_type": "code",
   "execution_count": null,
   "metadata": {},
   "outputs": [],
   "source": []
  },
  {
   "cell_type": "code",
   "execution_count": null,
   "metadata": {},
   "outputs": [],
   "source": []
  }
 ],
 "metadata": {
  "kernelspec": {
   "display_name": "Python 3",
   "language": "python",
   "name": "python3"
  },
  "language_info": {
   "codemirror_mode": {
    "name": "ipython",
    "version": 3
   },
   "file_extension": ".py",
   "mimetype": "text/x-python",
   "name": "python",
   "nbconvert_exporter": "python",
   "pygments_lexer": "ipython3",
   "version": "3.8.10"
  }
 },
 "nbformat": 4,
 "nbformat_minor": 4
}
