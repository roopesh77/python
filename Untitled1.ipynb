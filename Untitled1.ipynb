{
 "cells": [
  {
   "cell_type": "code",
   "execution_count": 6,
   "metadata": {},
   "outputs": [],
   "source": [
    "class Base:\n",
    "    def _init(self, value):\n",
    "        self.value = value\n",
    "    def info(self):\n",
    "        print({f'self.value'})\n",
    "    def info_base(self):\n",
    "        print(f\"Base.info_base: {self.value}\")"
   ]
  },
  {
   "cell_type": "code",
   "execution_count": 7,
   "metadata": {},
   "outputs": [],
   "source": [
    "class A(Base):\n",
    "    def __init__(self, value):\n",
    "        self.value = value\n",
    "        print(\"A. __init is called\")\n",
    "    def info(self):\n",
    "        print(f\"A. info: {self.value}\")\n",
    "    def info_A(self):\n",
    "        print(f\"A. info_A: {self.value}\")"
   ]
  },
  {
   "cell_type": "code",
   "execution_count": 8,
   "metadata": {},
   "outputs": [],
   "source": [
    "class B(Base):\n",
    "    def __init__(self, value):\n",
    "        self.value = value\n",
    "        print(\"B. __init is called\")\n",
    "    def info(self):\n",
    "        print(f\"B. info: {self.value}\")\n",
    "    def info_B(self):\n",
    "        print(f\"B. info_B: {self.value}\")\n",
    "        "
   ]
  },
  {
   "cell_type": "code",
   "execution_count": 9,
   "metadata": {},
   "outputs": [],
   "source": [
    "class C(A, B):\n",
    "    def __init__(self, value):\n",
    "        self.value = value\n",
    "        print(\"c. __init is called\")\n",
    "    def info(self):\n",
    "        print(f\"c. info: {self.value}\")\n",
    "    "
   ]
  },
  {
   "cell_type": "code",
   "execution_count": 11,
   "metadata": {},
   "outputs": [
    {
     "name": "stdout",
     "output_type": "stream",
     "text": [
      "c. __init is called\n"
     ]
    }
   ],
   "source": [
    "c=C('python')"
   ]
  },
  {
   "cell_type": "code",
   "execution_count": 13,
   "metadata": {},
   "outputs": [
    {
     "data": {
      "text/plain": [
       "(__main__.C, __main__.A, __main__.B, __main__.Base, object)"
      ]
     },
     "execution_count": 13,
     "metadata": {},
     "output_type": "execute_result"
    }
   ],
   "source": [
    "C.__mro__ #method resolution order"
   ]
  },
  {
   "cell_type": "code",
   "execution_count": null,
   "metadata": {},
   "outputs": [],
   "source": []
  }
 ],
 "metadata": {
  "kernelspec": {
   "display_name": "Python 3",
   "language": "python",
   "name": "python3"
  },
  "language_info": {
   "codemirror_mode": {
    "name": "ipython",
    "version": 3
   },
   "file_extension": ".py",
   "mimetype": "text/x-python",
   "name": "python",
   "nbconvert_exporter": "python",
   "pygments_lexer": "ipython3",
   "version": "3.8.10"
  }
 },
 "nbformat": 4,
 "nbformat_minor": 4
}
