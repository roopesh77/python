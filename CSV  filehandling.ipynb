{
 "cells": [
  {
   "cell_type": "code",
   "execution_count": 1,
   "metadata": {},
   "outputs": [],
   "source": [
    "import csv "
   ]
  },
  {
   "cell_type": "code",
   "execution_count": 3,
   "metadata": {},
   "outputs": [],
   "source": [
    "columns = ['college','universities', 'Estd']"
   ]
  },
  {
   "cell_type": "code",
   "execution_count": 11,
   "metadata": {},
   "outputs": [],
   "source": [
    "rows = ['Herald', 'ABC', '1990'] , ['thapathali', 'TU', '1910']"
   ]
  },
  {
   "cell_type": "code",
   "execution_count": 22,
   "metadata": {},
   "outputs": [],
   "source": [
    "with open('college.csv','w' , newline='' ) as file:\n",
    "    writer = csv.writer(file)\n",
    "    writer.writerow(columns)\n",
    "    for row in rows:\n",
    "        writer.writerow(row)"
   ]
  },
  {
   "cell_type": "code",
   "execution_count": 13,
   "metadata": {},
   "outputs": [
    {
     "name": "stdout",
     "output_type": "stream",
     "text": [
      " Volume in drive C has no label.\n",
      " Volume Serial Number is 3AEB-61FA\n",
      "\n",
      " Directory of C:\\Users\\Mega\\Broadway\\Fundamentals\n",
      "\n",
      "08/11/2021  07:27 AM    <DIR>          .\n",
      "08/11/2021  07:27 AM    <DIR>          ..\n",
      "08/11/2021  07:19 AM    <DIR>          .ipynb_checkpoints\n",
      "08/11/2021  07:20 AM             1,715 Class & Object.ipynb\n",
      "08/11/2021  07:31 AM                67 college.csv\n",
      "08/06/2021  08:00 AM             9,037 Comprehension.ipynb\n",
      "08/11/2021  07:27 AM             3,694 CSV.ipynb\n",
      "07/26/2021  08:27 AM             1,159 Day_1.ipynb\n",
      "07/27/2021  08:19 AM            11,006 Day_2 (list bla bla).ipynb\n",
      "07/28/2021  08:18 AM             9,833 Day_3.ipynb\n",
      "07/29/2021  08:25 AM             3,410 Day_4 loop.ipynb\n",
      "08/08/2021  08:17 AM             1,453 Decotator.ipynb\n",
      "08/02/2021  08:23 AM             8,610 dict.ipynb\n",
      "08/10/2021  08:08 AM               556 File Handling.ipynb\n",
      "08/03/2021  07:34 AM             2,032 letter count.ipynb\n",
      "08/04/2021  07:19 AM             7,140 Map filter reduce.ipynb\n",
      "08/01/2021  08:24 AM             4,346 rename.ipynb\n",
      "08/09/2021  08:21 PM             2,837 Task for tommorow.ipynb\n",
      "08/06/2021  07:39 AM             1,155 Untitled.ipynb\n",
      "              16 File(s)         68,050 bytes\n",
      "               3 Dir(s)   9,789,968,384 bytes free\n"
     ]
    }
   ],
   "source": [
    "ls"
   ]
  },
  {
   "cell_type": "code",
   "execution_count": 14,
   "metadata": {},
   "outputs": [
    {
     "ename": "SyntaxError",
     "evalue": "invalid syntax (<ipython-input-14-ea2335ee802e>, line 1)",
     "output_type": "error",
     "traceback": [
      "\u001b[1;36m  File \u001b[1;32m\"<ipython-input-14-ea2335ee802e>\"\u001b[1;36m, line \u001b[1;32m1\u001b[0m\n\u001b[1;33m    notepad college.csv\u001b[0m\n\u001b[1;37m            ^\u001b[0m\n\u001b[1;31mSyntaxError\u001b[0m\u001b[1;31m:\u001b[0m invalid syntax\n"
     ]
    }
   ],
   "source": [
    "notepad college.csv"
   ]
  },
  {
   "cell_type": "code",
   "execution_count": 41,
   "metadata": {},
   "outputs": [
    {
     "name": "stdout",
     "output_type": "stream",
     "text": [
      "['college', 'universities', 'Estd']\n",
      "['Herald', 'ABC', '1990']\n",
      "['thapathali', 'TU', '1910']\n"
     ]
    }
   ],
   "source": [
    "with open('college.csv','r', newline='') as file:\n",
    "    reader = csv.reader(file)\n",
    "    for row in reader:\n",
    "        print(row)"
   ]
  },
  {
   "cell_type": "code",
   "execution_count": 47,
   "metadata": {},
   "outputs": [],
   "source": [
    "rows_dict = [dict(zip(columns,row)) for row in rows]"
   ]
  },
  {
   "cell_type": "code",
   "execution_count": 48,
   "metadata": {},
   "outputs": [],
   "source": [
    "with open('college_dict.csv','w') as file:\n",
    "    writer = csv.DictWriter(file, fieldnames=columns)\n",
    "    writer.writeheader()\n",
    "    writer.writerows(rows_dict)"
   ]
  },
  {
   "cell_type": "code",
   "execution_count": 49,
   "metadata": {},
   "outputs": [
    {
     "name": "stdout",
     "output_type": "stream",
     "text": [
      " Volume in drive C has no label.\n",
      " Volume Serial Number is 3AEB-61FA\n",
      "\n",
      " Directory of C:\\Users\\Mega\\Broadway\\Fundamentals\n",
      "\n",
      "08/11/2021  07:49 AM    <DIR>          .\n",
      "08/11/2021  07:49 AM    <DIR>          ..\n",
      "08/11/2021  07:19 AM    <DIR>          .ipynb_checkpoints\n",
      "08/11/2021  07:20 AM             1,715 Class & Object.ipynb\n",
      "08/11/2021  07:35 AM                64 college.csv\n",
      "08/11/2021  07:49 AM                67 college_dict.csv\n",
      "08/06/2021  08:00 AM             9,037 Comprehension.ipynb\n",
      "08/11/2021  07:49 AM             4,560 CSV.ipynb\n",
      "07/26/2021  08:27 AM             1,159 Day_1.ipynb\n",
      "07/27/2021  08:19 AM            11,006 Day_2 (list bla bla).ipynb\n",
      "07/28/2021  08:18 AM             9,833 Day_3.ipynb\n",
      "07/29/2021  08:25 AM             3,410 Day_4 loop.ipynb\n",
      "08/08/2021  08:17 AM             1,453 Decotator.ipynb\n",
      "08/02/2021  08:23 AM             8,610 dict.ipynb\n",
      "08/10/2021  08:08 AM               556 File Handling.ipynb\n",
      "08/03/2021  07:34 AM             2,032 letter count.ipynb\n",
      "08/04/2021  07:19 AM             7,140 Map filter reduce.ipynb\n",
      "08/01/2021  08:24 AM             4,346 rename.ipynb\n",
      "08/09/2021  08:21 PM             2,837 Task for tommorow.ipynb\n",
      "08/06/2021  07:39 AM             1,155 Untitled.ipynb\n",
      "              17 File(s)         68,980 bytes\n",
      "               3 Dir(s)   9,797,812,224 bytes free\n"
     ]
    }
   ],
   "source": [
    "ls"
   ]
  },
  {
   "cell_type": "code",
   "execution_count": null,
   "metadata": {},
   "outputs": [],
   "source": []
  }
 ],
 "metadata": {
  "kernelspec": {
   "display_name": "Python 3",
   "language": "python",
   "name": "python3"
  },
  "language_info": {
   "codemirror_mode": {
    "name": "ipython",
    "version": 3
   },
   "file_extension": ".py",
   "mimetype": "text/x-python",
   "name": "python",
   "nbconvert_exporter": "python",
   "pygments_lexer": "ipython3",
   "version": "3.8.10"
  }
 },
 "nbformat": 4,
 "nbformat_minor": 4
}
